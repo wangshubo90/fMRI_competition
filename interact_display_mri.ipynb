{
 "cells": [
  {
   "cell_type": "code",
   "execution_count": 1,
   "metadata": {},
   "outputs": [
    {
     "name": "stderr",
     "output_type": "stream",
     "text": [
      "/home/spl/ml/tf2.0/lib/python3.7/site-packages/ipykernel_launcher.py:10: H5pyDeprecationWarning: dataset.value has been deprecated. Use dataset[()] instead.\n",
      "  # Remove the CWD from sys.path while we load stuff.\n"
     ]
    }
   ],
   "source": [
    "import SimpleITK as sitk \n",
    "import numpy as np \n",
    "from matplotlib import pyplot as plt \n",
    "from ipywidgets import interact, fixed\n",
    "import h5py\n",
    "\n",
    "file = r\"/media/spl/D/Kaggle competition/fMRI_test/10003.mat\"\n",
    "\n",
    "f = h5py.File(file, \"r\")\n",
    "mri = f[\"SM_feature\"].value\n",
    "\n",
    "def interact_display(MRI):\n",
    "\n",
    "    img_shape = MRI.shape\n",
    "    kwds = {\"img\": fixed(MRI), \"img_k\": (0, img_shape[0] - 1), \"img_z\": (0, img_shape[1] - 1)}\n",
    "    \n",
    "    def display(**kwds):\n",
    "    \n",
    "        fig, ax = plt.subplots(1,1)\n",
    "        ax.imshow(kwds[\"img\"][kwds[\"img_k\"], kwds[\"img_z\"], :, :], cmap = plt.cm.Greys_r)\n",
    "       \n",
    "        ax.axis(\"off\")\n",
    "\n",
    "    interact(display, **kwds)"
   ]
  },
  {
   "cell_type": "code",
   "execution_count": 2,
   "metadata": {},
   "outputs": [
    {
     "data": {
      "application/vnd.jupyter.widget-view+json": {
       "model_id": "ccc7df880f4d45779a96badf33f361f5",
       "version_major": 2,
       "version_minor": 0
      },
      "text/plain": [
       "interactive(children=(IntSlider(value=26, description='img_k', max=52), IntSlider(value=25, description='img_z…"
      ]
     },
     "metadata": {},
     "output_type": "display_data"
    }
   ],
   "source": [
    "interact_display(mri)"
   ]
  },
  {
   "cell_type": "code",
   "execution_count": null,
   "metadata": {},
   "outputs": [],
   "source": []
  }
 ],
 "metadata": {
  "kernelspec": {
   "display_name": "Python 3.7.6 64-bit ('tf2.0': venv)",
   "language": "python",
   "name": "python37664bittf20venvb4199da768da4a719619d9f8bb154d3b"
  },
  "language_info": {
   "codemirror_mode": {
    "name": "ipython",
    "version": 3
   },
   "file_extension": ".py",
   "mimetype": "text/x-python",
   "name": "python",
   "nbconvert_exporter": "python",
   "pygments_lexer": "ipython3",
   "version": "3.7.6"
  }
 },
 "nbformat": 4,
 "nbformat_minor": 4
}
